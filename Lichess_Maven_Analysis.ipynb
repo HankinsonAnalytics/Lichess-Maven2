{
 "cells": [
  {
   "cell_type": "code",
   "execution_count": 63,
   "id": "27762704-a068-42ec-a478-4a6483cfc284",
   "metadata": {},
   "outputs": [],
   "source": [
    "import time\n",
    "import pandas as pd\n",
    "import numpy as np\n",
    "from io import BytesIO\n",
    "#specialized imports\n",
    "import re\n",
    "import io\n",
    "import os\n",
    "import stockfish\n",
    "from stockfish import Stockfish\n",
    "import chess\n",
    "import sys\n",
    "from tqdm import tqdm\n",
    "# Create a Stockfish engine instance with AVX2 support\n",
    "stockfish = Stockfish(r\"C:\\Desktop\\stockfish\\stockfish-windows-x86-64-avx2.exe\")"
   ]
  },
  {
   "cell_type": "code",
   "execution_count": 2,
   "id": "17d6eb2f-5ac4-461b-bf55-0ee85c47110b",
   "metadata": {},
   "outputs": [],
   "source": [
    "games_df = pd.read_csv(r\"C:\\Users\\CDHan\\Documents\\Online+Chess+Games\\chess_games_to_analyze.csv\")"
   ]
  },
  {
   "cell_type": "code",
   "execution_count": 3,
   "id": "d75f86fc-23c2-44db-84c2-2c4fb2faeef3",
   "metadata": {},
   "outputs": [
    {
     "name": "stdout",
     "output_type": "stream",
     "text": [
      "       game_id                                              moves  WhiteMove1  \\\n",
      "0            1  d4 d5 c4 c6 cxd5 e6 dxe6 fxe6 Nf3 Bb4+ Nc3 Ba5...         NaN   \n",
      "1            2  d4 Nc6 e4 e5 f4 f6 dxe5 fxe5 fxe5 Nxe5 Qd4 Nc6...         NaN   \n",
      "2            3  e4 e5 d3 d6 Be3 c6 Be2 b5 Nd2 a5 a4 c5 axb5 Nc...         NaN   \n",
      "3            4  d4 d5 Nf3 Bf5 Nc3 Nf6 Bf4 Ng4 e3 Nc6 Be2 Qd7 O...         NaN   \n",
      "4            5  e4 e5 Nf3 d6 d4 Nc6 d5 Nb4 a3 Na6 Nc3 Be7 b4 N...         NaN   \n",
      "...        ...                                                ...         ...   \n",
      "20053    20054  d4 f5 e3 e6 Nf3 Nf6 Nc3 b6 Be2 Bb7 O-O Be7 Ne5...         NaN   \n",
      "20054    20055  d4 d6 Bf4 e5 Bg3 Nf6 e3 exd4 exd4 d5 c3 Bd6 Bd...         NaN   \n",
      "20055    20056  d4 d5 Bf4 Nc6 e3 Nf6 c3 e6 Nf3 Be7 Bd3 O-O Nbd...         NaN   \n",
      "20056    20057  e4 d6 d4 Nf6 e5 dxe5 dxe5 Qxd1+ Kxd1 Nd5 c4 Nb...         NaN   \n",
      "20057    20058  d4 d5 Bf4 Na6 e3 e6 c3 Nf6 Nf3 Bd7 Nbd2 b5 Bd3...         NaN   \n",
      "\n",
      "       WhiteEvaluation1  WhiteBestMove1  BlackMove1  BlackEvaluation1  \\\n",
      "0                   NaN             NaN         NaN               NaN   \n",
      "1                   NaN             NaN         NaN               NaN   \n",
      "2                   NaN             NaN         NaN               NaN   \n",
      "3                   NaN             NaN         NaN               NaN   \n",
      "4                   NaN             NaN         NaN               NaN   \n",
      "...                 ...             ...         ...               ...   \n",
      "20053               NaN             NaN         NaN               NaN   \n",
      "20054               NaN             NaN         NaN               NaN   \n",
      "20055               NaN             NaN         NaN               NaN   \n",
      "20056               NaN             NaN         NaN               NaN   \n",
      "20057               NaN             NaN         NaN               NaN   \n",
      "\n",
      "       BlackBestMove1  WhiteMove2  WhiteEvaluation2  ...  WhiteBestMove9  \\\n",
      "0                 NaN         NaN               NaN  ...             NaN   \n",
      "1                 NaN         NaN               NaN  ...             NaN   \n",
      "2                 NaN         NaN               NaN  ...             NaN   \n",
      "3                 NaN         NaN               NaN  ...             NaN   \n",
      "4                 NaN         NaN               NaN  ...             NaN   \n",
      "...               ...         ...               ...  ...             ...   \n",
      "20053             NaN         NaN               NaN  ...             NaN   \n",
      "20054             NaN         NaN               NaN  ...             NaN   \n",
      "20055             NaN         NaN               NaN  ...             NaN   \n",
      "20056             NaN         NaN               NaN  ...             NaN   \n",
      "20057             NaN         NaN               NaN  ...             NaN   \n",
      "\n",
      "       BlackMove9  BlackEvaluation9  BlackBestMove9  WhiteMove10  \\\n",
      "0             NaN               NaN             NaN          NaN   \n",
      "1             NaN               NaN             NaN          NaN   \n",
      "2             NaN               NaN             NaN          NaN   \n",
      "3             NaN               NaN             NaN          NaN   \n",
      "4             NaN               NaN             NaN          NaN   \n",
      "...           ...               ...             ...          ...   \n",
      "20053         NaN               NaN             NaN          NaN   \n",
      "20054         NaN               NaN             NaN          NaN   \n",
      "20055         NaN               NaN             NaN          NaN   \n",
      "20056         NaN               NaN             NaN          NaN   \n",
      "20057         NaN               NaN             NaN          NaN   \n",
      "\n",
      "       WhiteEvaluation10  WhiteBestMove10  BlackMove10  BlackEvaluation10  \\\n",
      "0                    NaN              NaN          NaN                NaN   \n",
      "1                    NaN              NaN          NaN                NaN   \n",
      "2                    NaN              NaN          NaN                NaN   \n",
      "3                    NaN              NaN          NaN                NaN   \n",
      "4                    NaN              NaN          NaN                NaN   \n",
      "...                  ...              ...          ...                ...   \n",
      "20053                NaN              NaN          NaN                NaN   \n",
      "20054                NaN              NaN          NaN                NaN   \n",
      "20055                NaN              NaN          NaN                NaN   \n",
      "20056                NaN              NaN          NaN                NaN   \n",
      "20057                NaN              NaN          NaN                NaN   \n",
      "\n",
      "       BlackBestMove10  \n",
      "0                  NaN  \n",
      "1                  NaN  \n",
      "2                  NaN  \n",
      "3                  NaN  \n",
      "4                  NaN  \n",
      "...                ...  \n",
      "20053              NaN  \n",
      "20054              NaN  \n",
      "20055              NaN  \n",
      "20056              NaN  \n",
      "20057              NaN  \n",
      "\n",
      "[20058 rows x 62 columns]\n"
     ]
    }
   ],
   "source": [
    "print(games_df)"
   ]
  },
  {
   "cell_type": "code",
   "execution_count": 4,
   "id": "3776845a-c0c8-40d6-adea-9854eb6b1fc8",
   "metadata": {},
   "outputs": [],
   "source": [
    "# Splitting first 10 moves to single cells\n",
    "\n",
    "Move_Columns = [\"WhiteMove1\", \"BlackMove1\", \"WhiteMove2\", \"BlackMove2\", \"WhiteMove3\", \"BlackMove3\",\n",
    "                \"WhiteMove4\", \"BlackMove4\", \"WhiteMove5\", \"BlackMove5\", \"WhiteMove6\", \"BlackMove6\",\n",
    "                \"WhiteMove7\", \"BlackMove7\", \"WhiteMove8\", \"BlackMove8\", \"WhiteMove9\", \"BlackMove9\",\n",
    "                \"WhiteMove10\", \"BlackMove10\"]\n",
    "\n",
    "import chess\n",
    "\n",
    "# Convert moves to the format expected by Stockfish\n",
    "def convert_moves(x):\n",
    "    game_list = x.split(\" \")\n",
    "    moves = game_list[:20]\n",
    "    stockfish_moves = []\n",
    "    board = chess.Board()\n",
    "    for move in moves:\n",
    "        board.push_san(move)\n",
    "        uci_move = board.peek().uci()  # Get the UCI representation of the move\n",
    "        stockfish_moves.append(uci_move)\n",
    "    return stockfish_moves\n",
    "\n",
    "games_df[Move_Columns] = games_df['moves'].apply(convert_moves).apply(pd.Series)\n"
   ]
  },
  {
   "cell_type": "code",
   "execution_count": 5,
   "id": "232027c7-df96-47e7-bcd4-a33d73201d83",
   "metadata": {},
   "outputs": [],
   "source": [
    "#creating a simplified dataframe for games where the same line was played out to move 10\n",
    "simplified_df = games_df.drop_duplicates(Move_Columns).copy()\n",
    "#Creating a backup of simplified_df\n",
    "simplified_copy = simplified_df.copy()\n"
   ]
  },
  {
   "cell_type": "code",
   "execution_count": 6,
   "id": "15ec835e-c57a-439e-ae50-5665128dab85",
   "metadata": {},
   "outputs": [
    {
     "name": "stdout",
     "output_type": "stream",
     "text": [
      "       game_id                                              moves WhiteMove1  \\\n",
      "0            1  d4 d5 c4 c6 cxd5 e6 dxe6 fxe6 Nf3 Bb4+ Nc3 Ba5...       d2d4   \n",
      "1            2  d4 Nc6 e4 e5 f4 f6 dxe5 fxe5 fxe5 Nxe5 Qd4 Nc6...       d2d4   \n",
      "2            3  e4 e5 d3 d6 Be3 c6 Be2 b5 Nd2 a5 a4 c5 axb5 Nc...       e2e4   \n",
      "3            4  d4 d5 Nf3 Bf5 Nc3 Nf6 Bf4 Ng4 e3 Nc6 Be2 Qd7 O...       d2d4   \n",
      "4            5  e4 e5 Nf3 d6 d4 Nc6 d5 Nb4 a3 Na6 Nc3 Be7 b4 N...       e2e4   \n",
      "...        ...                                                ...        ...   \n",
      "20053    20054  d4 f5 e3 e6 Nf3 Nf6 Nc3 b6 Be2 Bb7 O-O Be7 Ne5...       d2d4   \n",
      "20054    20055  d4 d6 Bf4 e5 Bg3 Nf6 e3 exd4 exd4 d5 c3 Bd6 Bd...       d2d4   \n",
      "20055    20056  d4 d5 Bf4 Nc6 e3 Nf6 c3 e6 Nf3 Be7 Bd3 O-O Nbd...       d2d4   \n",
      "20056    20057  e4 d6 d4 Nf6 e5 dxe5 dxe5 Qxd1+ Kxd1 Nd5 c4 Nb...       e2e4   \n",
      "20057    20058  d4 d5 Bf4 Na6 e3 e6 c3 Nf6 Nf3 Bd7 Nbd2 b5 Bd3...       d2d4   \n",
      "\n",
      "       WhiteEvaluation1  WhiteBestMove1 BlackMove1  BlackEvaluation1  \\\n",
      "0                   NaN             NaN       d7d5               NaN   \n",
      "1                   NaN             NaN       b8c6               NaN   \n",
      "2                   NaN             NaN       e7e5               NaN   \n",
      "3                   NaN             NaN       d7d5               NaN   \n",
      "4                   NaN             NaN       e7e5               NaN   \n",
      "...                 ...             ...        ...               ...   \n",
      "20053               NaN             NaN       f7f5               NaN   \n",
      "20054               NaN             NaN       d7d6               NaN   \n",
      "20055               NaN             NaN       d7d5               NaN   \n",
      "20056               NaN             NaN       d7d6               NaN   \n",
      "20057               NaN             NaN       d7d5               NaN   \n",
      "\n",
      "       BlackBestMove1 WhiteMove2  WhiteEvaluation2  ...  WhiteBestMove9  \\\n",
      "0                 NaN       c2c4               NaN  ...             NaN   \n",
      "1                 NaN       e2e4               NaN  ...             NaN   \n",
      "2                 NaN       d2d3               NaN  ...             NaN   \n",
      "3                 NaN       g1f3               NaN  ...             NaN   \n",
      "4                 NaN       g1f3               NaN  ...             NaN   \n",
      "...               ...        ...               ...  ...             ...   \n",
      "20053             NaN       e2e3               NaN  ...             NaN   \n",
      "20054             NaN       c1f4               NaN  ...             NaN   \n",
      "20055             NaN       c1f4               NaN  ...             NaN   \n",
      "20056             NaN       d2d4               NaN  ...             NaN   \n",
      "20057             NaN       c1f4               NaN  ...             NaN   \n",
      "\n",
      "      BlackMove9  BlackEvaluation9  BlackBestMove9 WhiteMove10  \\\n",
      "0            NaN               NaN             NaN         NaN   \n",
      "1            NaN               NaN             NaN         NaN   \n",
      "2           a5a4               NaN             NaN        c2c3   \n",
      "3           b4a2               NaN             NaN        c1a1   \n",
      "4           a6c5               NaN             NaN        g5f6   \n",
      "...          ...               ...             ...         ...   \n",
      "20053       h7g6               NaN             NaN        h5g6   \n",
      "20054       d6g3               NaN             NaN        h2g3   \n",
      "20055       f6d7               NaN             NaN        d3h7   \n",
      "20056       e6d5               NaN             NaN        b1c3   \n",
      "20057       f6e4               NaN             NaN        d2e4   \n",
      "\n",
      "       WhiteEvaluation10  WhiteBestMove10 BlackMove10  BlackEvaluation10  \\\n",
      "0                    NaN              NaN         NaN                NaN   \n",
      "1                    NaN              NaN         NaN                NaN   \n",
      "2                    NaN              NaN        a4a3                NaN   \n",
      "3                    NaN              NaN        a2b4                NaN   \n",
      "4                    NaN              NaN        e7f6                NaN   \n",
      "...                  ...              ...         ...                ...   \n",
      "20053                NaN              NaN        e8f8                NaN   \n",
      "20054                NaN              NaN        b7b6                NaN   \n",
      "20055                NaN              NaN        g8h7                NaN   \n",
      "20056                NaN              NaN        d5d4                NaN   \n",
      "20057                NaN              NaN        d5e4                NaN   \n",
      "\n",
      "       BlackBestMove10  \n",
      "0                  NaN  \n",
      "1                  NaN  \n",
      "2                  NaN  \n",
      "3                  NaN  \n",
      "4                  NaN  \n",
      "...                ...  \n",
      "20053              NaN  \n",
      "20054              NaN  \n",
      "20055              NaN  \n",
      "20056              NaN  \n",
      "20057              NaN  \n",
      "\n",
      "[18900 rows x 62 columns]\n"
     ]
    }
   ],
   "source": [
    "print(simplified_df)"
   ]
  },
  {
   "cell_type": "code",
   "execution_count": 92,
   "id": "e48775df",
   "metadata": {},
   "outputs": [],
   "source": [
    "\"\"\"This block defines the function that the code will pass over the move columns of the dataframe.\n",
    "in the next block, we will use it to analyze the first ten moves of the game that was played and, \n",
    "for each game move, return the best move and the stockfish evaluation after the move was played.\"\"\"\n",
    "\n",
    "def analyze_moves(*moves):\n",
    "    moves_list = [move for move in moves if move is not None and not isinstance(move, float)]\n",
    "    #print(moves_list)\n",
    "    moves_len = len(moves_list)\n",
    "    result = None\n",
    "    evaluation = None\n",
    "    if moves_len > 1:\n",
    "        stockfish.set_position(moves_list[:-1])  # Set the position before the move was made.\n",
    "    else:\n",
    "        stockfish.set_position() #set starting position\n",
    "    result = stockfish.get_best_move()  # Get the best move from Stockfish\n",
    "    last_move = moves_list[-1]\n",
    "    stockfish.set_position(moves_list)  # Make the last move on Stockfish\n",
    "    evaluation_dict = stockfish.get_evaluation()  # Get the evaluation from Stockfish\n",
    "    if evaluation_dict and \"value\" in evaluation_dict:\n",
    "        evaluation = evaluation_dict[\"value\"]\n",
    "    else:\n",
    "        evaluation = None\n",
    "\n",
    "    return evaluation, result"
   ]
  },
  {
   "cell_type": "code",
   "execution_count": null,
   "id": "575f0968-f8d5-4723-80d7-2a2fbfde4ee4",
   "metadata": {
    "scrolled": false
   },
   "outputs": [
    {
     "name": "stderr",
     "output_type": "stream",
     "text": [
      "Processing rows:  70%|█████████████████████████████████████████████▌                   | 14/20 [00:04<00:02,  2.87it/s]\n"
     ]
    },
    {
     "name": "stdout",
     "output_type": "stream",
     "text": [
      "Execution interrupted. Current row: WhiteMove1          d2d3\n",
      "WhiteEvaluation1    None\n",
      "WhiteBestMove1      None\n",
      "Name: 475, dtype: object\n"
     ]
    }
   ],
   "source": [
    "\"\"\" This block passes over the first ten moves (in chess terms each player's move is a half-move, \n",
    "so this means up to twenty moves per row) of the games in the dataframe and places the best move \n",
    "for each move in a corresponding column.\n",
    "Warning: This code may take up to 20 hours to run. additional code which picks up this process where \n",
    "it left off is available below.\"\"\"\n",
    "\n",
    "\n",
    "#resetting simplified df with the copy\n",
    "simplified_df=simplified_copy.copy() \n",
    "active_columns = []\n",
    "eval_columns = best_columns = [col for col in simplified_copy.columns if 'Evaluation' in col]\n",
    "best_columns = [col for col in simplified_copy.columns if 'Best' in col]\n",
    "\n",
    "try:\n",
    "    simplified_df = simplified_df.drop(columns=eval_columns+best_columns)\n",
    "except Exception as e:\n",
    "    print(e)\n",
    "\n",
    "for move_column, eval_column, best_column in zip(Move_Columns, eval_columns, best_columns):\n",
    "    #backing up simplified_df\n",
    "    active_columns = active_columns + [move_column]\n",
    "    working_df = simplified_copy.drop_duplicates(active_columns).copy()\n",
    "    working_df = working_df[active_columns] \n",
    "    working_df[[eval_column,best_column]] = None,None\n",
    "    working_df = working_df.dropna(how='all')\n",
    "    working_df = working_df.dropna(subset=[move_column])\n",
    "    #print(working_df)\n",
    "    # Apply the analyze_moves function to the working_df and update the analysis_results DataFrame\n",
    "    for index, row in tqdm(working_df.iterrows(), total=len(working_df), desc='Processing rows'):\n",
    "        try:\n",
    "            evaluation, best_move = analyze_moves(*row[active_columns])\n",
    "            #print(\"Best Move: \"+str(best_move)+\"\\n Evaluation: \"+str(evaluation))\n",
    "            working_df.at[index, eval_column] = evaluation\n",
    "            working_df.at[index, best_column] = best_move\n",
    "        except KeyboardInterrupt:\n",
    "            print(\"Execution interrupted. Current row:\", row)\n",
    "            simplified_df = pd.merge(simplified_df, working_df, on=active_columns, how='left')\n",
    "            break\n",
    "    simplified_df = pd.merge(simplified_df, working_df, on=active_columns, how='left')\n",
    "    advance = input(move_column + \" analyzed.\\n Would you like to continue? (y/n)\")\n",
    "    if advance == 'y':\n",
    "        continue\n",
    "    else:\n",
    "        break\n",
    "print(simplified_df)\n"
   ]
  },
  {
   "cell_type": "code",
   "execution_count": 74,
   "id": "c2f460dd",
   "metadata": {},
   "outputs": [],
   "source": [
    "#Moemorializing the analysis\n",
    "simplified_df.to_csv(r'C:\\Users\\CDHan\\Documents\\Online+Chess+Games\\simplified_df.csv', index=False)"
   ]
  },
  {
   "cell_type": "code",
   "execution_count": 85,
   "id": "171ab0ca",
   "metadata": {},
   "outputs": [],
   "source": [
    "#Repeating the above/picking up where the code left off. \n",
    "pickup_df = pd.read_csv(r'C:\\Users\\CDHan\\Documents\\Online+Chess+Games\\simplified_df.csv')"
   ]
  },
  {
   "cell_type": "code",
   "execution_count": 86,
   "id": "f6e01caa",
   "metadata": {},
   "outputs": [
    {
     "name": "stdout",
     "output_type": "stream",
     "text": [
      "['WhiteEvaluation4', 'BlackEvaluation4', 'WhiteEvaluation5', 'BlackEvaluation5', 'WhiteEvaluation6', 'BlackEvaluation6', 'WhiteEvaluation7', 'BlackEvaluation7', 'WhiteEvaluation8', 'BlackEvaluation8', 'WhiteEvaluation9', 'BlackEvaluation9', 'WhiteEvaluation10', 'BlackEvaluation10']\n",
      "['WhiteBestMove4', 'BlackBestMove4', 'WhiteBestMove5', 'BlackBestMove5', 'WhiteBestMove6', 'BlackBestMove6', 'WhiteBestMove7', 'BlackBestMove7', 'WhiteBestMove8', 'BlackBestMove8', 'WhiteBestMove9', 'BlackBestMove9', 'WhiteBestMove10', 'BlackBestMove10']\n"
     ]
    }
   ],
   "source": [
    "print(eval_columns)\n",
    "print(best_columns)"
   ]
  },
  {
   "cell_type": "code",
   "execution_count": 87,
   "id": "f2198def",
   "metadata": {},
   "outputs": [],
   "source": [
    "#resetting simplified df with the copy\n",
    "active_columns = []\n",
    "lists_df = pd.DataFrame()\n",
    "Move_Columns = [\"WhiteMove1\", \"BlackMove1\", \"WhiteMove2\", \"BlackMove2\", \"WhiteMove3\", \"BlackMove3\",\n",
    "                \"WhiteMove4\", \"BlackMove4\", \"WhiteMove5\", \"BlackMove5\", \"WhiteMove6\", \"BlackMove6\",\n",
    "                \"WhiteMove7\", \"BlackMove7\", \"WhiteMove8\", \"BlackMove8\", \"WhiteMove9\", \"BlackMove9\",\n",
    "                \"WhiteMove10\", \"BlackMove10\"]\n",
    "eval_columns = ['WhiteEvaluation1', 'BlackEvaluation1', 'WhiteEvaluation2', 'BlackEvaluation2', \n",
    "                'WhiteEvaluation3', 'BlackEvaluation3', 'WhiteEvaluation4', 'BlackEvaluation4', \n",
    "                'WhiteEvaluation5', 'BlackEvaluation5', 'WhiteEvaluation6', 'BlackEvaluation6', \n",
    "                'WhiteEvaluation7', 'BlackEvaluation7', 'WhiteEvaluation8', 'BlackEvaluation8', \n",
    "                'WhiteEvaluation9', 'BlackEvaluation9', 'WhiteEvaluation10', 'BlackEvaluation10']\n",
    "best_columns = ['WhiteBestMove1', 'BlackBestMove1', 'WhiteBestMove2', 'BlackBestMove2',\n",
    "                'WhiteBestMove3', 'BlackBestMove3', 'WhiteBestMove4', 'BlackBestMove4',\n",
    "                'WhiteBestMove5', 'BlackBestMove5', 'WhiteBestMove6', 'BlackBestMove6',\n",
    "                'WhiteBestMove7', 'BlackBestMove7', 'WhiteBestMove8', 'BlackBestMove8',\n",
    "                'WhiteBestMove9', 'BlackBestMove9', 'WhiteBestMove10', 'BlackBestMove10']\n",
    "pickup_df_columns = pickup_df.columns.tolist()\n",
    "\n",
    "lists_df = pd.DataFrame({\n",
    "    'Move_Columns': Move_Columns,\n",
    "    'eval_columns': eval_columns,\n",
    "    'best_columns': best_columns\n",
    "})\n",
    "\n",
    "lists_df['Done?'] = lists_df['best_columns'].isin(pickup_df.columns)\n",
    "\n",
    "done_df = lists_df[lists_df['Done?']==True]\n",
    "to_do_df = lists_df[lists_df['Done?']==False]\n",
    "\n",
    "active_columns = done_df['Move_Columns'].tolist()\n",
    "to_do_columns = to_do_df['Move_Columns'].tolist()\n",
    "eval_columns = to_do_df['eval_columns'].tolist()\n",
    "best_columns = to_do_df['best_columns'].tolist()"
   ]
  },
  {
   "cell_type": "code",
   "execution_count": 88,
   "id": "08160381",
   "metadata": {},
   "outputs": [
    {
     "name": "stdout",
     "output_type": "stream",
     "text": [
      "['game_id', 'moves', 'WhiteMove1', 'BlackMove1', 'WhiteMove2', 'BlackMove2', 'WhiteMove3', 'BlackMove3', 'WhiteMove4', 'BlackMove4', 'WhiteMove5', 'BlackMove5', 'WhiteMove6', 'BlackMove6', 'WhiteMove7', 'BlackMove7', 'WhiteMove8', 'BlackMove8', 'WhiteMove9', 'BlackMove9', 'WhiteMove10', 'BlackMove10', 'WhiteEvaluation1', 'WhiteBestMove1', 'BlackEvaluation1', 'BlackBestMove1', 'WhiteEvaluation2', 'WhiteBestMove2', 'BlackEvaluation2', 'BlackBestMove2', 'WhiteEvaluation3', 'WhiteBestMove3', 'BlackEvaluation3', 'BlackBestMove3']\n",
      "['WhiteMove1', 'BlackMove1', 'WhiteMove2', 'BlackMove2', 'WhiteMove3', 'BlackMove3']\n"
     ]
    }
   ],
   "source": [
    "#print('Eval Columns')\n",
    "#print(eval_columns)\n",
    "#print('Dataframe columns')\n",
    "print(pickup_df_columns)\n",
    "print(active_columns)"
   ]
  },
  {
   "cell_type": "code",
   "execution_count": 89,
   "id": "965c4a58",
   "metadata": {},
   "outputs": [
    {
     "name": "stderr",
     "output_type": "stream",
     "text": [
      "Processing rows: 100%|███████████████████████████████████████████████████████████| 10632/10632 [44:01<00:00,  4.02it/s]\n",
      "Processing rows: 100%|███████████████████████████████████████████████████████████| 12884/12884 [52:14<00:00,  4.11it/s]\n",
      "Processing rows: 100%|███████████████████████████████████████████████████████████| 14701/14701 [58:49<00:00,  4.16it/s]\n",
      "Processing rows: 100%|█████████████████████████████████████████████████████████| 16001/16001 [1:03:16<00:00,  4.22it/s]\n",
      "Processing rows: 100%|█████████████████████████████████████████████████████████| 16948/16948 [1:06:25<00:00,  4.25it/s]\n",
      "Processing rows: 100%|█████████████████████████████████████████████████████████| 17460/17460 [1:07:11<00:00,  4.33it/s]\n",
      "Processing rows: 100%|█████████████████████████████████████████████████████████| 17741/17741 [1:07:06<00:00,  4.41it/s]\n",
      "Processing rows: 100%|█████████████████████████████████████████████████████████| 17899/17899 [1:06:30<00:00,  4.49it/s]\n",
      "Processing rows: 100%|█████████████████████████████████████████████████████████| 17939/17939 [1:05:25<00:00,  4.57it/s]\n",
      "Processing rows: 100%|█████████████████████████████████████████████████████████| 17904/17904 [1:03:59<00:00,  4.66it/s]\n",
      "Processing rows: 100%|█████████████████████████████████████████████████████████| 17848/17848 [1:03:04<00:00,  4.72it/s]\n",
      "Processing rows: 100%|█████████████████████████████████████████████████████████| 17749/17749 [1:00:59<00:00,  4.85it/s]\n",
      "Processing rows: 100%|█████████████████████████████████████████████████████████| 17669/17669 [1:01:51<00:00,  4.76it/s]\n",
      "Processing rows: 100%|█████████████████████████████████████████████████████████| 17538/17538 [1:03:23<00:00,  4.61it/s]\n"
     ]
    }
   ],
   "source": [
    "for move_column, eval_column, best_column in zip(to_do_columns, eval_columns, best_columns):\n",
    "    #backing up simplified_df\n",
    "    active_columns = active_columns + [move_column]\n",
    "    working_df = pickup_df.drop_duplicates(active_columns).copy()\n",
    "    working_df = working_df[active_columns] \n",
    "    working_df[[eval_column,best_column]] = None,None\n",
    "    working_df = working_df.dropna(how='all')\n",
    "    working_df = working_df.dropna(subset=[move_column])\n",
    "    #print(working_df)\n",
    "    # Apply the analyze_moves function to the working_df and update the analysis_results DataFrame\n",
    "    for index, row in tqdm(working_df.iterrows(), total=len(working_df), desc='Processing rows'):\n",
    "        try:\n",
    "            evaluation, best_move = analyze_moves(*row[active_columns])\n",
    "             #print(\"Best Move: \"+str(best_move)+\"\\n Evaluation: \"+str(evaluation))\n",
    "            working_df.at[index, eval_column] = evaluation\n",
    "            working_df.at[index, best_column] = best_move\n",
    "        except KeyboardInterrupt:\n",
    "            print(\"Execution interrupted. Current row:\", row)\n",
    "            pickup_df = pd.merge(pickup_df, working_df, on=active_columns, how='left')\n",
    "            break\n",
    "    pickup_df = pd.merge(pickup_df, working_df, on=active_columns, how='left')\n",
    "    #advance = input(move_column + \" analyzed.\\n Would you like to continue? (y/n)\")\n",
    "    #start_time = time.time()\n",
    "\n",
    "    #while True:\n",
    "        #advance = input(move_column + \" analyzed.\\n Would you like to continue? (y/n)\")\n",
    "    \n",
    "        #if advance == 'y':\n",
    "            #continue\n",
    "        #else:\n",
    "            #break\n",
    "    \n",
    "        #elapsed_time = time.time() - start_time\n",
    "    \n",
    "        #if elapsed_time > 300:  # 300 seconds = 5 minutes\n",
    "            #print(\"No input received within 5 minutes. Continuing...\")\n",
    "            #continue"
   ]
  },
  {
   "cell_type": "code",
   "execution_count": 90,
   "id": "c4f04b24",
   "metadata": {},
   "outputs": [
    {
     "name": "stdout",
     "output_type": "stream",
     "text": [
      "Index(['game_id', 'moves', 'WhiteMove1', 'BlackMove1', 'WhiteMove2',\n",
      "       'BlackMove2', 'WhiteMove3', 'BlackMove3', 'WhiteMove4', 'BlackMove4',\n",
      "       'WhiteMove5', 'BlackMove5', 'WhiteMove6', 'BlackMove6', 'WhiteMove7',\n",
      "       'BlackMove7', 'WhiteMove8', 'BlackMove8', 'WhiteMove9', 'BlackMove9',\n",
      "       'WhiteMove10', 'BlackMove10', 'WhiteEvaluation1', 'WhiteBestMove1',\n",
      "       'BlackEvaluation1', 'BlackBestMove1', 'WhiteEvaluation2',\n",
      "       'WhiteBestMove2', 'BlackEvaluation2', 'BlackBestMove2',\n",
      "       'WhiteEvaluation3', 'WhiteBestMove3', 'BlackEvaluation3',\n",
      "       'BlackBestMove3', 'WhiteEvaluation4', 'WhiteBestMove4',\n",
      "       'BlackEvaluation4', 'BlackBestMove4', 'WhiteEvaluation5',\n",
      "       'WhiteBestMove5', 'BlackEvaluation5', 'BlackBestMove5',\n",
      "       'WhiteEvaluation6', 'WhiteBestMove6', 'BlackEvaluation6',\n",
      "       'BlackBestMove6', 'WhiteEvaluation7', 'WhiteBestMove7',\n",
      "       'BlackEvaluation7', 'BlackBestMove7', 'WhiteEvaluation8',\n",
      "       'WhiteBestMove8', 'BlackEvaluation8', 'BlackBestMove8',\n",
      "       'WhiteEvaluation9', 'WhiteBestMove9', 'BlackEvaluation9',\n",
      "       'BlackBestMove9', 'WhiteEvaluation10', 'WhiteBestMove10',\n",
      "       'BlackEvaluation10', 'BlackBestMove10'],\n",
      "      dtype='object')\n"
     ]
    }
   ],
   "source": [
    "print(pickup_df.columns)"
   ]
  },
  {
   "cell_type": "code",
   "execution_count": 91,
   "id": "3e5d5f84-db16-449b-b2e7-12e51ebb085a",
   "metadata": {},
   "outputs": [],
   "source": [
    "pickup_df.to_csv(r'C:\\Users\\CDHan\\Documents\\Online+Chess+Games\\simplified_df.csv', index=False)"
   ]
  }
 ],
 "metadata": {
  "kernelspec": {
   "display_name": "Python 3 (ipykernel)",
   "language": "python",
   "name": "python3"
  },
  "language_info": {
   "codemirror_mode": {
    "name": "ipython",
    "version": 3
   },
   "file_extension": ".py",
   "mimetype": "text/x-python",
   "name": "python",
   "nbconvert_exporter": "python",
   "pygments_lexer": "ipython3",
   "version": "3.10.9"
  }
 },
 "nbformat": 4,
 "nbformat_minor": 5
}
